{
 "cells": [
  {
   "cell_type": "markdown",
   "id": "f2e8ce32",
   "metadata": {},
   "source": [
    "# Demo | Jupyter Notebook"
   ]
  },
  {
   "cell_type": "code",
   "execution_count": null,
   "id": "8d6d8911",
   "metadata": {},
   "outputs": [
    {
     "data": {
      "text/html": [
       "<div>\n",
       "<style scoped>\n",
       "    .dataframe tbody tr th:only-of-type {\n",
       "        vertical-align: middle;\n",
       "    }\n",
       "\n",
       "    .dataframe tbody tr th {\n",
       "        vertical-align: top;\n",
       "    }\n",
       "\n",
       "    .dataframe thead th {\n",
       "        text-align: right;\n",
       "    }\n",
       "</style>\n",
       "<table border=\"1\" class=\"dataframe\">\n",
       "  <thead>\n",
       "    <tr style=\"text-align: right;\">\n",
       "      <th></th>\n",
       "      <th>CustomerID</th>\n",
       "      <th>FirstName</th>\n",
       "      <th>LastName</th>\n",
       "    </tr>\n",
       "  </thead>\n",
       "  <tbody>\n",
       "    <tr>\n",
       "      <th>0</th>\n",
       "      <td>1000</td>\n",
       "      <td>Mathijs</td>\n",
       "      <td>Oosterhout-Rijntjes</td>\n",
       "    </tr>\n",
       "    <tr>\n",
       "      <th>1</th>\n",
       "      <td>1001</td>\n",
       "      <td>Joost</td>\n",
       "      <td>van Brunswijk</td>\n",
       "    </tr>\n",
       "    <tr>\n",
       "      <th>2</th>\n",
       "      <td>1002</td>\n",
       "      <td>Stan</td>\n",
       "      <td>Bokenkamp</td>\n",
       "    </tr>\n",
       "  </tbody>\n",
       "</table>\n",
       "</div>"
      ],
      "text/plain": [
       "   CustomerID FirstName             LastName\n",
       "0        1000   Mathijs  Oosterhout-Rijntjes\n",
       "1        1001     Joost        van Brunswijk\n",
       "2        1002      Stan            Bokenkamp"
      ]
     },
     "metadata": {},
     "output_type": "display_data"
    }
   ],
   "source": [
    "# Define schema and data\n",
    "# Adapted from: https://docs.databricks.com/aws/en/dev-tools/vscode-ext/tutorial\n",
    "import pandas as pd\n",
    "\n",
    "columns = ['CustomerID', 'FirstName', 'LastName']\n",
    "data = [\n",
    "    [1000, 'Mathijs', 'Oosterhout-Rijntjes'],\n",
    "    [1001, 'Joost', 'van Brunswijk'],\n",
    "    [1002, 'Stan', 'Bokenkamp']\n",
    "]\n",
    "\n",
    "# Create a pandas DataFrame\n",
    "customers = pd.DataFrame(data, columns=columns)\n",
    "\n",
    "# Display the DataFrame\n",
    "display(customers)"
   ]
  }
 ],
 "metadata": {
  "kernelspec": {
   "display_name": ".venv",
   "language": "python",
   "name": "python3"
  },
  "language_info": {
   "codemirror_mode": {
    "name": "ipython",
    "version": 3
   },
   "file_extension": ".py",
   "mimetype": "text/x-python",
   "name": "python",
   "nbconvert_exporter": "python",
   "pygments_lexer": "ipython3",
   "version": "3.11.12"
  }
 },
 "nbformat": 4,
 "nbformat_minor": 5
}
